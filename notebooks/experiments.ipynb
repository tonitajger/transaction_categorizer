{
 "cells": [
  {
   "cell_type": "code",
   "execution_count": null,
   "metadata": {},
   "outputs": [],
   "source": [
    "import json\n",
    "from enum import Enum\n",
    "\n",
    "from langchain.output_parsers import ResponseSchema, StructuredOutputParser\n",
    "from langchain_community.chat_models import ChatOllama\n",
    "from langchain_core.language_models.chat_models import BaseChatModel\n",
    "from langchain_core.prompts import PromptTemplate\n",
    "from langchain_core.pydantic_v1 import BaseModel, Field\n",
    "from langchain_openai import ChatOpenAI"
   ]
  },
  {
   "cell_type": "code",
   "execution_count": null,
   "metadata": {},
   "outputs": [],
   "source": [
    "import yaml\n",
    "\n",
    "with open(\"../secrets.yaml\", \"r\") as file:\n",
    "    SECRETS = yaml.safe_load(file)"
   ]
  },
  {
   "cell_type": "markdown",
   "metadata": {},
   "source": [
    "## Define models"
   ]
  },
  {
   "cell_type": "code",
   "execution_count": null,
   "metadata": {},
   "outputs": [],
   "source": [
    "class ModelChoice(Enum):\n",
    "    llama2 = \"llama2\"\n",
    "    gpt4 = \"gpt-4\"\n",
    "\n",
    "\n",
    "def supports_function_calling(model: BaseChatModel):\n",
    "    return hasattr(model, \"bind_functions\")\n",
    "\n",
    "\n",
    "TEMPERATURE = 0\n",
    "OPENAI_API_KEY = SECRETS.get(\"OPENAI_API_KEY\")\n",
    "\n",
    "\n",
    "def model_factory(model: ModelChoice):\n",
    "    if model == ModelChoice.llama2:\n",
    "        return ChatOllama(model=\"llama2\", temperature=TEMPERATURE)\n",
    "    elif model == ModelChoice.gpt4:\n",
    "        return ChatOpenAI(\n",
    "            model=\"gpt-4\", temperature=TEMPERATURE, openai_api_key=OPENAI_API_KEY\n",
    "        )\n",
    "    else:\n",
    "        raise ValueError(f\"Model {model} not supported\")"
   ]
  },
  {
   "cell_type": "markdown",
   "metadata": {},
   "source": [
    "## OutputParsers"
   ]
  },
  {
   "cell_type": "code",
   "execution_count": null,
   "metadata": {},
   "outputs": [],
   "source": [
    "response_schemas = [\n",
    "    ResponseSchema(\n",
    "        name=\"description\",\n",
    "        description=\"Original description of the transaction. Just pass input here description here\",\n",
    "    ),\n",
    "    ResponseSchema(name=\"category\", description=\"Parent category of the transaction\"),\n",
    "    ResponseSchema(name=\"subcategory\", description=\"Subcategory of the transaction\"),\n",
    "    ResponseSchema(\n",
    "        name=\"reasoning\",\n",
    "        description=\"Explanation of the transaction and why it's categorized as such\",\n",
    "    ),\n",
    "]\n",
    "structured_parser = StructuredOutputParser.from_response_schemas(response_schemas)"
   ]
  },
  {
   "cell_type": "code",
   "execution_count": null,
   "metadata": {},
   "outputs": [],
   "source": [
    "class ResponseSchema(BaseModel):\n",
    "    \"\"\"Output schema for the response from the model\"\"\"\n",
    "\n",
    "    description: str = Field(\n",
    "        description=\"Original description of the transaction. Just pass input here description here\"\n",
    "    )\n",
    "    category: str = Field(description=\"Parent category of the transaction\")\n",
    "    subcategory: str = Field(description=\"Subcategory of the transaction\")\n",
    "    reasoning: str = Field(\n",
    "        description=\"Explanation of the transaction and why it's categorized as such\"\n",
    "    )"
   ]
  },
  {
   "cell_type": "markdown",
   "metadata": {},
   "source": [
    "## Define Prompt"
   ]
  },
  {
   "cell_type": "code",
   "execution_count": null,
   "metadata": {},
   "outputs": [],
   "source": [
    "prompt = PromptTemplate(\n",
    "    template=\"\"\"\n",
    "    You are an personal financial assistant that categorizes \n",
    "    bank transfers for transactions in Sweden. The categories\n",
    "    should be useful for managing and visualizing personal budget \n",
    "    and expenses. Categorize the following transaction: \"{description}\".\n",
    "    {format_instructions}\n",
    "    \"\"\",\n",
    "    input_variables=[\"description\"],\n",
    "    partial_variables={\n",
    "        \"format_instructions\": structured_parser.get_format_instructions()\n",
    "    },\n",
    ")"
   ]
  },
  {
   "cell_type": "markdown",
   "metadata": {},
   "source": [
    "## Chain Components and Invoke Chain"
   ]
  },
  {
   "cell_type": "code",
   "execution_count": null,
   "metadata": {},
   "outputs": [],
   "source": [
    "model = model_factory(ModelChoice.llama2)\n",
    "# model = model_factory(ModelChoice.gpt4)\n",
    "\n",
    "chain = prompt | model | structured_parser"
   ]
  },
  {
   "cell_type": "code",
   "execution_count": null,
   "metadata": {},
   "outputs": [],
   "source": [
    "description = \"Netflix\"\n",
    "response = chain.invoke({\"description\": description})\n",
    "print(json.dumps(response, indent=2))"
   ]
  }
 ],
 "metadata": {
  "kernelspec": {
   "display_name": ".venv",
   "language": "python",
   "name": "python3"
  },
  "language_info": {
   "codemirror_mode": {
    "name": "ipython",
    "version": 3
   },
   "file_extension": ".py",
   "mimetype": "text/x-python",
   "name": "python",
   "nbconvert_exporter": "python",
   "pygments_lexer": "ipython3",
   "version": "3.11.6"
  }
 },
 "nbformat": 4,
 "nbformat_minor": 2
}
